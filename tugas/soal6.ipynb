{
 "cells": [
  {
   "cell_type": "code",
   "execution_count": 10,
   "metadata": {},
   "outputs": [
    {
     "name": "stdout",
     "output_type": "stream",
     "text": [
      "myArray: [92 38 61 34 69 10 83 81 90 51 34 34 33 61 22 83 82 35 33 65 72 61 34 59\n",
      " 34 11 52 56 61  5 19 38 37 86 49 73]\n"
     ]
    }
   ],
   "source": [
    "import numpy as np\n",
    "\n",
    "# Membangkitkan array satu dimensi dengan 36 elemen, isi dari rentang 1 hingga 100\n",
    "myArray = np.random.randint(1, 101, 36)\n",
    "\n",
    "# Menampilkan array\n",
    "print(\"myArray:\", myArray)\n"
   ]
  },
  {
   "cell_type": "code",
   "execution_count": 5,
   "metadata": {},
   "outputs": [
    {
     "name": "stdout",
     "output_type": "stream",
     "text": [
      "Matrix 2x18:\n",
      " [[97  8 17 28 96 41 12 17 28 13 22 33 39 27 21 47 93 72]\n",
      " [ 3 55 68 22  8 80 91 50 72 88 25 73 65 28 87 73 27 25]]\n"
     ]
    }
   ],
   "source": [
    "# Bentuk ulang array menjadi array 2 dimensi dengan bentuk (2x5)\n",
    "matrix_2x18 = myArray.reshape(2, 18)\n",
    "\n",
    "# Menampilkan array\n",
    "print(\"Matrix 2x18:\\n\", matrix_2x18)"
   ]
  },
  {
   "cell_type": "code",
   "execution_count": 8,
   "metadata": {},
   "outputs": [
    {
     "name": "stdout",
     "output_type": "stream",
     "text": [
      "Matrix 2x6x3:\n",
      " [[[97  8 17]\n",
      "  [28 96 41]\n",
      "  [12 17 28]\n",
      "  [13 22 33]\n",
      "  [39 27 21]\n",
      "  [47 93 72]]\n",
      "\n",
      " [[ 3 55 68]\n",
      "  [22  8 80]\n",
      "  [91 50 72]\n",
      "  [88 25 73]\n",
      "  [65 28 87]\n",
      "  [73 27 25]]]\n"
     ]
    }
   ],
   "source": [
    "# Bentuk ulang array menjadi array 3 dimensi dengan bentuk (2x6x3)\n",
    "matrix_2x6x3 = myArray.reshape(2, 6, 3)\n",
    "\n",
    "# Menampilkan array\n",
    "print(\"Matrix 2x6x3:\\n\", matrix_2x6x3)"
   ]
  },
  {
   "cell_type": "code",
   "execution_count": 9,
   "metadata": {},
   "outputs": [
    {
     "name": "stdout",
     "output_type": "stream",
     "text": [
      "\n",
      "Nilai minimum: 3\n",
      "Nilai maksimum: 97\n"
     ]
    }
   ],
   "source": [
    "# Mendapatkan nilai minimum dan maksimum dari array\n",
    "min_value = np.min(myArray)\n",
    "max_value = np.max(myArray)\n",
    "\n",
    "# Menampilkan nilai minimum dan maksimum\n",
    "print(\"\\nNilai minimum:\", min_value)\n",
    "print(\"Nilai maksimum:\", max_value)"
   ]
  },
  {
   "cell_type": "code",
   "execution_count": 12,
   "metadata": {},
   "outputs": [
    {
     "name": "stdout",
     "output_type": "stream",
     "text": [
      "\n",
      "newArray (dari indeks tertentu): [34 10 19 33 83 90 34 22 34]\n",
      "\n",
      "reshaped array 3x3):\n",
      "[[34 10 19]\n",
      " [33 83 90]\n",
      " [34 22 34]]\n"
     ]
    }
   ],
   "source": [
    "# Mengambil data dari indeks tertentu\n",
    "selected_indices = [3, 5, 30, 12, 15, 8, 24, 14, 22]\n",
    "newArray = myArray[selected_indices]\n",
    "\n",
    "# Menampilkan array baru\n",
    "print(\"\\nnewArray (dari indeks tertentu):\", newArray)\n",
    "\n",
    "# Reshape array menjadi matriks 3x3\n",
    "reshapedarray = newArray.reshape(3, 3)\n",
    "print(\"\\nreshaped array 3x3):\")\n",
    "print(reshapedarray)"
   ]
  },
  {
   "cell_type": "code",
   "execution_count": 16,
   "metadata": {},
   "outputs": [
    {
     "name": "stdout",
     "output_type": "stream",
     "text": [
      "\n",
      "Elemen-elemen yang lebih besar dari 50:\n",
      "[97 96 93 72 55 68 80 91 72 88 73 65 87 73]\n"
     ]
    }
   ],
   "source": [
    "# Mendapatkan indeks elemen-elemen yang lebih besar dari 50\n",
    "indices_greater_than_50 = np.where(myArray > 50)\n",
    "\n",
    "# Menampilkan elemen-elemen yang nilainya lebih besar dari 50\n",
    "print(\"\\nElemen-elemen yang lebih besar dari 50:\")\n",
    "print(myArray[indices_greater_than_50])"
   ]
  },
  {
   "cell_type": "code",
   "execution_count": 8,
   "metadata": {},
   "outputs": [
    {
     "name": "stdout",
     "output_type": "stream",
     "text": [
      "output_array: [  0  25  50  75 100]\n"
     ]
    }
   ],
   "source": [
    "import numpy as np\n",
    "# Membuat array dengan langkah (step) 25 dari 0 hingga 101\n",
    "output_array = np.arange(0, 101, 25)\n",
    "\n",
    "# Menampilkan array\n",
    "print(\"output_array:\", output_array)\n"
   ]
  },
  {
   "cell_type": "code",
   "execution_count": 7,
   "metadata": {},
   "outputs": [
    {
     "name": "stdout",
     "output_type": "stream",
     "text": [
      "output_array:\n",
      "[[8 8 8]\n",
      " [8 8 8]\n",
      " [8 8 8]]\n"
     ]
    }
   ],
   "source": [
    "# Input nilai N dari pengguna\n",
    "N = int(input(\"Masukkan nilai N: \"))\n",
    "\n",
    "# Membuat array 2 dimensi berukuran NxN dengan nilai 8\n",
    "output_array = np.full((N, N), 8)\n",
    "\n",
    "# Menampilkan array\n",
    "print(\"output_array:\")\n",
    "print(output_array)"
   ]
  },
  {
   "cell_type": "code",
   "execution_count": 1,
   "metadata": {},
   "outputs": [
    {
     "name": "stdout",
     "output_type": "stream",
     "text": [
      "[[ 1  2  3  4]\n",
      " [ 5  6  7  8]\n",
      " [ 9 10 11 12]]\n"
     ]
    }
   ],
   "source": [
    "# Membuat array dengan rentang nilai dari 1 hingga 12\n",
    "varArrayA = np.arange(1, 13)\n",
    "\n",
    "\n",
    "# Bentuk ulang array menjadi array 2 dimensi dengan bentuk (3x4)\n",
    "arrayA = varArrayA.reshape(3, 4)\n",
    "\n",
    "# menampilkan array\n",
    "print(arrayA)\n"
   ]
  },
  {
   "cell_type": "code",
   "execution_count": 14,
   "metadata": {},
   "outputs": [
    {
     "name": "stdout",
     "output_type": "stream",
     "text": [
      "[[100]\n",
      " [200]\n",
      " [300]\n",
      " [400]]\n"
     ]
    }
   ],
   "source": [
    "# Membuat array satu dimensi dengan nilai [100, 200, 300, 400]\n",
    "varArrayB = np.arange(100, 401, 100)\n",
    "\n",
    "# Mengubah bentuk array menjadi matriks 2 dimensi dengan bentuk (4, 1)\n",
    "arrayB = varArrayB.reshape((4, 1))\n",
    "\n",
    "# Menampilkan array\n",
    "print(arrayB)"
   ]
  },
  {
   "cell_type": "code",
   "execution_count": 3,
   "metadata": {},
   "outputs": [
    {
     "name": "stdout",
     "output_type": "stream",
     "text": [
      "[[  1   2   3   4]\n",
      " [  5   6   7   8]\n",
      " [  9  10  11  12]\n",
      " [100 200 300 400]]\n"
     ]
    }
   ],
   "source": [
    "import numpy as np\n",
    "# Transposisi arrayB\n",
    "arrayB_transposed = np.transpose(arrayB)\n",
    "\n",
    "# Menggabungkan arrayA dan arrayB_transposed\n",
    "arrayC = np.concatenate((arrayA, arrayB_transposed), axis=0)\n",
    "\n",
    "# menampilkan array\n",
    "print(arrayC)\n"
   ]
  },
  {
   "cell_type": "code",
   "execution_count": 108,
   "metadata": {},
   "outputs": [
    {
     "name": "stdout",
     "output_type": "stream",
     "text": [
      "\n",
      "Sliced Result:\n",
      "[[ 7  8]\n",
      " [11 12]]\n"
     ]
    }
   ],
   "source": [
    "# Melakukan pengindeksan (slicing) pada arrayC\n",
    "sliced_result = arrayC[1:3, 2:4]\n",
    "\n",
    "# menampilkan array\n",
    "print(\"\\nSliced Result:\")\n",
    "print(sliced_result)"
   ]
  },
  {
   "cell_type": "markdown",
   "metadata": {},
   "source": [
    "Dari arrayC, lakukan indexing untuk mendapatkan angka 200!"
   ]
  },
  {
   "cell_type": "code",
   "execution_count": 5,
   "metadata": {},
   "outputs": [
    {
     "name": "stdout",
     "output_type": "stream",
     "text": [
      "\n",
      "Nilai 200 dari arrayC:\n",
      "200\n"
     ]
    }
   ],
   "source": [
    "value_200 = arrayC[3, 1]\n",
    "print(\"\\nNilai 200 dari arrayC:\")\n",
    "print(value_200)"
   ]
  }
 ],
 "metadata": {
  "kernelspec": {
   "display_name": "base",
   "language": "python",
   "name": "python3"
  },
  "language_info": {
   "codemirror_mode": {
    "name": "ipython",
    "version": 3
   },
   "file_extension": ".py",
   "mimetype": "text/x-python",
   "name": "python",
   "nbconvert_exporter": "python",
   "pygments_lexer": "ipython3",
   "version": "3.11.5"
  }
 },
 "nbformat": 4,
 "nbformat_minor": 2
}
