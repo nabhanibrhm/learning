{
 "cells": [
  {
   "cell_type": "markdown",
   "metadata": {},
   "source": [
    "1. Buatlah sebuah array 1 dimensi (vektor) yang diisi dengan 36 elemen. Isi dari array\n",
    "tersebut adalah bilangan random yang dibangkitkan dari rentang nilai 1 hingga 100.\n",
    "Simpan array tersebut dalam sebuah variable bernama myArray, kemudian coba\n",
    "tampilkan!"
   ]
  },
  {
   "cell_type": "code",
   "execution_count": 49,
   "metadata": {},
   "outputs": [
    {
     "name": "stdout",
     "output_type": "stream",
     "text": [
      "myArray: [ 74  45  64  75  28  86  57  44  26   9  97  63  48  13   1  22   3  56\n",
      "  19  65  30 100  26  10  32  65   4  14  43  12  68  51  23  36  40  19]\n"
     ]
    }
   ],
   "source": [
    "import numpy as np\n",
    "\n",
    "# Membangkitkan array satu dimensi dengan 36 elemen, isi dari rentang 1 hingga 100\n",
    "myArray = np.random.randint(1, 101, 36)\n",
    "\n",
    "# Menampilkan array\n",
    "print(\"myArray:\", myArray)\n"
   ]
  },
  {
   "cell_type": "markdown",
   "metadata": {},
   "source": [
    "2. Dari myArray, bentuklah 3 array dengan bentuk yang berbeda \n",
    "(mengganti dimensi matriksnya) dengan kombinasi ukuran yang berbeda beda!"
   ]
  },
  {
   "cell_type": "markdown",
   "metadata": {},
   "source": [
    "• Matriks berukuran 2x18"
   ]
  },
  {
   "cell_type": "code",
   "execution_count": 50,
   "metadata": {},
   "outputs": [
    {
     "name": "stdout",
     "output_type": "stream",
     "text": [
      "Matrix 2x18:\n",
      " [[ 74  45  64  75  28  86  57  44  26   9  97  63  48  13   1  22   3  56]\n",
      " [ 19  65  30 100  26  10  32  65   4  14  43  12  68  51  23  36  40  19]]\n"
     ]
    }
   ],
   "source": [
    "# Bentuk ulang array menjadi array 2 dimensi dengan bentuk (2x5)\n",
    "matrix_2x18 = myArray.reshape(2, 18)\n",
    "\n",
    "# Menampilkan array\n",
    "print(\"Matrix 2x18:\\n\", matrix_2x18)"
   ]
  },
  {
   "cell_type": "markdown",
   "metadata": {},
   "source": [
    "• Matriks berukuran 9x4"
   ]
  },
  {
   "cell_type": "code",
   "execution_count": 55,
   "metadata": {},
   "outputs": [
    {
     "name": "stdout",
     "output_type": "stream",
     "text": [
      "Matrix 9x4:\n",
      " [[ 74  45  64  75]\n",
      " [ 28  86  57  44]\n",
      " [ 26   9  97  63]\n",
      " [ 48  13   1  22]\n",
      " [  3  56  19  65]\n",
      " [ 30 100  26  10]\n",
      " [ 32  65   4  14]\n",
      " [ 43  12  68  51]\n",
      " [ 23  36  40  19]]\n"
     ]
    }
   ],
   "source": [
    "# Bentuk ulang array menjadi array 2 dimensi dengan bentuk (9x4)\n",
    "matrix_9x4 = myArray.reshape(9, 4)\n",
    "\n",
    "# Menampilkan array\n",
    "print(\"Matrix 9x4:\\n\", matrix_9x4)"
   ]
  },
  {
   "cell_type": "markdown",
   "metadata": {},
   "source": [
    "• Array 3 Dimensi berukuran 2x6x3"
   ]
  },
  {
   "cell_type": "code",
   "execution_count": 51,
   "metadata": {},
   "outputs": [
    {
     "name": "stdout",
     "output_type": "stream",
     "text": [
      "Matrix 2x6x3:\n",
      " [[[ 74  45  64]\n",
      "  [ 75  28  86]\n",
      "  [ 57  44  26]\n",
      "  [  9  97  63]\n",
      "  [ 48  13   1]\n",
      "  [ 22   3  56]]\n",
      "\n",
      " [[ 19  65  30]\n",
      "  [100  26  10]\n",
      "  [ 32  65   4]\n",
      "  [ 14  43  12]\n",
      "  [ 68  51  23]\n",
      "  [ 36  40  19]]]\n"
     ]
    }
   ],
   "source": [
    "# Bentuk ulang array menjadi array 3 dimensi dengan bentuk (2x6x3)\n",
    "matrix_2x6x3 = myArray.reshape(2, 6, 3)\n",
    "\n",
    "# Menampilkan array\n",
    "print(\"Matrix 2x6x3:\\n\", matrix_2x6x3)"
   ]
  },
  {
   "cell_type": "markdown",
   "metadata": {},
   "source": [
    "3. Berapakah nilai minimun dan maksimum dari myArray? Tampilkan dan coba perlihatkan\n",
    "nilai maksimum dan minimum tersebut ada pada indeks keberapa!"
   ]
  },
  {
   "cell_type": "code",
   "execution_count": 56,
   "metadata": {},
   "outputs": [
    {
     "name": "stdout",
     "output_type": "stream",
     "text": [
      "\n",
      "Nilai minimum: 1 pada indeks: 14\n",
      "Nilai maksimum: 100 pada indeks: 21\n"
     ]
    }
   ],
   "source": [
    "# Menemukan nilai minimum dan maksimum beserta indeksnya\n",
    "min_value = np.min(myArray)\n",
    "max_value = np.max(myArray)\n",
    "min_index = np.argmin(myArray)\n",
    "max_index = np.argmax(myArray)\n",
    "\n",
    "# Menampilkan nilai dan index minimum dan maksimum array\n",
    "print(\"\\nNilai minimum:\", min_value, \"pada indeks:\", min_index)\n",
    "print(\"Nilai maksimum:\", max_value, \"pada indeks:\", max_index)\n"
   ]
  },
  {
   "cell_type": "markdown",
   "metadata": {},
   "source": [
    "4. Buatlah sebuah array baru dari myArray dengan data yang diambil berasal dari index 3,\n",
    "5, 30, 12, 15, 8, 24, 14, 22. Setelah itu, reshape bentuknya menjadi sebuah matrix\n",
    "ukuran 3x3!"
   ]
  },
  {
   "cell_type": "code",
   "execution_count": 53,
   "metadata": {},
   "outputs": [
    {
     "name": "stdout",
     "output_type": "stream",
     "text": [
      "\n",
      "newArray (dari indeks tertentu): [75 86 68 48 22 26 32  1 26]\n",
      "\n",
      "reshaped array 3x3):\n",
      "[[75 86 68]\n",
      " [48 22 26]\n",
      " [32  1 26]]\n"
     ]
    }
   ],
   "source": [
    "# Mengambil data dari indeks tertentu\n",
    "selected_indices = [3, 5, 30, 12, 15, 8, 24, 14, 22]\n",
    "newArray = myArray[selected_indices]\n",
    "\n",
    "# Menampilkan array baru\n",
    "print(\"\\nnewArray (dari indeks tertentu):\", newArray)\n",
    "\n",
    "# Reshape array menjadi matriks 3x3\n",
    "reshapedarray = newArray.reshape(3, 3)\n",
    "print(\"\\nreshaped array 3x3):\")\n",
    "print(reshapedarray)"
   ]
  },
  {
   "cell_type": "markdown",
   "metadata": {},
   "source": [
    "5. Dari matrix yang dibuat pada nomor 4, tampilkan data yang nilainya lebih besar dari 50!"
   ]
  },
  {
   "cell_type": "code",
   "execution_count": 54,
   "metadata": {},
   "outputs": [
    {
     "name": "stdout",
     "output_type": "stream",
     "text": [
      "\n",
      "Elemen-elemen yang lebih besar dari 50:\n",
      "[ 74  64  75  86  57  97  63  56  65 100  65  68  51]\n"
     ]
    }
   ],
   "source": [
    "# Mendapatkan indeks elemen-elemen yang lebih besar dari 50\n",
    "indices_greater_than_50 = np.where(myArray > 50)\n",
    "\n",
    "# Menampilkan elemen-elemen yang nilainya lebih besar dari 50\n",
    "print(\"\\nElemen-elemen yang lebih besar dari 50:\")\n",
    "print(myArray[indices_greater_than_50])"
   ]
  },
  {
   "cell_type": "markdown",
   "metadata": {},
   "source": [
    "6. Buat sebuah array menggunkan salah satu method di numpy dengan output seperti di\n",
    "bawah ini!"
   ]
  },
  {
   "cell_type": "code",
   "execution_count": 47,
   "metadata": {},
   "outputs": [
    {
     "name": "stdout",
     "output_type": "stream",
     "text": [
      "output_array: [  0  25  50  75 100]\n"
     ]
    }
   ],
   "source": [
    "import numpy as np\n",
    "# Membuat array dengan langkah (step) 25 dari 0 hingga 101\n",
    "output_array = np.arange(0, 101, 25)\n",
    "\n",
    "# Menampilkan array\n",
    "print(\"output_array:\", output_array)\n"
   ]
  },
  {
   "cell_type": "markdown",
   "metadata": {},
   "source": [
    "7. Buatlah sebuah array 2 dimensi dengan ukuran NxN di mana N nya adalah sebuah\n",
    "inputan. Isi dari array tersebut seluruhnya adalah angka 8!"
   ]
  },
  {
   "cell_type": "code",
   "execution_count": 57,
   "metadata": {},
   "outputs": [
    {
     "name": "stdout",
     "output_type": "stream",
     "text": [
      "output_array:\n",
      "[[8 8 8]\n",
      " [8 8 8]\n",
      " [8 8 8]]\n"
     ]
    }
   ],
   "source": [
    "# Input nilai N dari pengguna\n",
    "N = int(input(\"Masukkan nilai N: \"))\n",
    "\n",
    "# Membuat array 2 dimensi berukuran NxN dengan nilai 8\n",
    "output_array = np.full((N, N), 8)\n",
    "\n",
    "# Menampilkan array\n",
    "print(\"output_array:\")\n",
    "print(output_array)"
   ]
  },
  {
   "cell_type": "markdown",
   "metadata": {},
   "source": [
    "8. Buatlah 2 buah array 2 dimensi seperti gambar di bawah ini, lalu simpan dalam variabel\n",
    "bernama arrayA dan arrayB!"
   ]
  },
  {
   "cell_type": "code",
   "execution_count": 58,
   "metadata": {},
   "outputs": [
    {
     "name": "stdout",
     "output_type": "stream",
     "text": [
      "[[ 1  2  3  4]\n",
      " [ 5  6  7  8]\n",
      " [ 9 10 11 12]]\n"
     ]
    }
   ],
   "source": [
    "# Membuat array dengan rentang nilai dari 1 hingga 12\n",
    "varArrayA = np.arange(1, 13)\n",
    "\n",
    "\n",
    "# Bentuk ulang array menjadi array 2 dimensi dengan bentuk (3x4)\n",
    "arrayA = varArrayA.reshape(3, 4)\n",
    "\n",
    "# menampilkan array\n",
    "print(arrayA)\n"
   ]
  },
  {
   "cell_type": "code",
   "execution_count": 59,
   "metadata": {},
   "outputs": [
    {
     "name": "stdout",
     "output_type": "stream",
     "text": [
      "[[100]\n",
      " [200]\n",
      " [300]\n",
      " [400]]\n"
     ]
    }
   ],
   "source": [
    "# Membuat array satu dimensi dengan nilai [100, 200, 300, 400]\n",
    "varArrayB = np.arange(100, 401, 100)\n",
    "\n",
    "# Mengubah bentuk array menjadi matriks 2 dimensi dengan bentuk (4, 1)\n",
    "arrayB = varArrayB.reshape((4, 1))\n",
    "\n",
    "# Menampilkan array\n",
    "print(arrayB)"
   ]
  },
  {
   "cell_type": "markdown",
   "metadata": {},
   "source": [
    "Buatlah sebuah array yang berasal dari gabungan arrayA dan arrayB seperti gambar di\n",
    "bawah ini, simpan dalam variabel bernama arrayC!"
   ]
  },
  {
   "cell_type": "code",
   "execution_count": 61,
   "metadata": {},
   "outputs": [
    {
     "name": "stdout",
     "output_type": "stream",
     "text": [
      "[[  1   2   3   4]\n",
      " [  5   6   7   8]\n",
      " [  9  10  11  12]\n",
      " [100 200 300 400]]\n"
     ]
    }
   ],
   "source": [
    "# Transposisi arrayB\n",
    "arrayB_transposed = np.transpose(arrayB)\n",
    "\n",
    "# Menggabungkan arrayA dan arrayB_transposed\n",
    "arrayC = np.concatenate((arrayA, arrayB_transposed), axis=0)\n",
    "\n",
    "# menampilkan array\n",
    "print(arrayC)\n"
   ]
  },
  {
   "cell_type": "markdown",
   "metadata": {},
   "source": [
    "9. Dari arrayC, lakukan slicing agar menghasilkan array di bawah ini!"
   ]
  },
  {
   "cell_type": "code",
   "execution_count": null,
   "metadata": {},
   "outputs": [
    {
     "name": "stdout",
     "output_type": "stream",
     "text": [
      "\n",
      "Sliced Result:\n",
      "[[ 7  8]\n",
      " [11 12]]\n"
     ]
    }
   ],
   "source": [
    "# Melakukan pengindeksan (slicing) pada arrayC\n",
    "sliced_result = arrayC[1:3, 2:4]\n",
    "\n",
    "# menampilkan array\n",
    "print(\"\\nSliced Result:\")\n",
    "print(sliced_result)"
   ]
  },
  {
   "cell_type": "markdown",
   "metadata": {},
   "source": [
    "10. Dari arrayC, lakukan indexing untuk mendapatkan angka 200!"
   ]
  },
  {
   "cell_type": "code",
   "execution_count": null,
   "metadata": {},
   "outputs": [
    {
     "name": "stdout",
     "output_type": "stream",
     "text": [
      "\n",
      "Nilai 200 dari arrayC:\n",
      "200\n"
     ]
    }
   ],
   "source": [
    "# Pengindeksan yang diperbaiki untuk mendapatkan nilai 200\n",
    "value_200 = arrayC[3, 1]\n",
    "\n",
    "print(\"\\nNilai 200 dari arrayC:\")\n",
    "print(value_200)"
   ]
  }
 ],
 "metadata": {
  "kernelspec": {
   "display_name": "base",
   "language": "python",
   "name": "python3"
  },
  "language_info": {
   "codemirror_mode": {
    "name": "ipython",
    "version": 3
   },
   "file_extension": ".py",
   "mimetype": "text/x-python",
   "name": "python",
   "nbconvert_exporter": "python",
   "pygments_lexer": "ipython3",
   "version": "3.11.5"
  }
 },
 "nbformat": 4,
 "nbformat_minor": 2
}
