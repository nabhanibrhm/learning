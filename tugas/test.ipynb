{
 "cells": [
  {
   "cell_type": "code",
   "execution_count": 12,
   "metadata": {},
   "outputs": [
    {
     "ename": "IndexError",
     "evalue": "index 4 is out of bounds for axis 0 with size 4",
     "output_type": "error",
     "traceback": [
      "\u001b[1;31m---------------------------------------------------------------------------\u001b[0m",
      "\u001b[1;31mIndexError\u001b[0m                                Traceback (most recent call last)",
      "\u001b[1;32md:\\Purwadhika\\belajar aja\\learning\\tugas\\test.ipynb Cell 1\u001b[0m line \u001b[0;36m2\n\u001b[0;32m     <a href='vscode-notebook-cell:/d%3A/Purwadhika/belajar%20aja/learning/tugas/test.ipynb#W2sZmlsZQ%3D%3D?line=17'>18</a>\u001b[0m arrayC \u001b[39m=\u001b[39m np\u001b[39m.\u001b[39mconcatenate((arrayA, arrayB_transposed), axis\u001b[39m=\u001b[39m\u001b[39m0\u001b[39m)\n\u001b[0;32m     <a href='vscode-notebook-cell:/d%3A/Purwadhika/belajar%20aja/learning/tugas/test.ipynb#W2sZmlsZQ%3D%3D?line=19'>20</a>\u001b[0m \u001b[39m# Pengindeksan yang diperbaiki untuk mendapatkan nilai 200\u001b[39;00m\n\u001b[1;32m---> <a href='vscode-notebook-cell:/d%3A/Purwadhika/belajar%20aja/learning/tugas/test.ipynb#W2sZmlsZQ%3D%3D?line=20'>21</a>\u001b[0m nilai_200 \u001b[39m=\u001b[39m arrayC[\u001b[39m4\u001b[39m, \u001b[39m0\u001b[39m]\n\u001b[0;32m     <a href='vscode-notebook-cell:/d%3A/Purwadhika/belajar%20aja/learning/tugas/test.ipynb#W2sZmlsZQ%3D%3D?line=22'>23</a>\u001b[0m \u001b[39m# Menampilkan hasil yang diperbaiki\u001b[39;00m\n\u001b[0;32m     <a href='vscode-notebook-cell:/d%3A/Purwadhika/belajar%20aja/learning/tugas/test.ipynb#W2sZmlsZQ%3D%3D?line=23'>24</a>\u001b[0m \u001b[39mprint\u001b[39m(\u001b[39m\"\u001b[39m\u001b[39m\\n\u001b[39;00m\u001b[39mPengindeksan yang Diperbaiki untuk Mendapatkan Nilai 200:\u001b[39m\u001b[39m\"\u001b[39m)\n",
      "\u001b[1;31mIndexError\u001b[0m: index 4 is out of bounds for axis 0 with size 4"
     ]
    }
   ],
   "source": [
    "import numpy as np\n",
    "\n",
    "# Diasumsikan arrayA dan arrayB telah didefinisikan\n",
    "arrayA = np.array([[1, 2, 3, 4],\n",
    "                   [5, 6, 7, 8],\n",
    "                   [9, 10, 11, 12]])\n",
    "\n",
    "# Diasumsikan arrayB telah didefinisikan\n",
    "arrayB = np.array([[100],\n",
    "                   [200],\n",
    "                   [300],\n",
    "                   [400]])\n",
    "\n",
    "# Transposisi arrayB untuk cocok dengan ukuran sepanjang sumbu 0\n",
    "arrayB_transposed = np.transpose(arrayB)\n",
    "\n",
    "# Menggabungkan arrayA dan arrayB_transposed sepanjang sumbu 0\n",
    "arrayC = np.concatenate((arrayA, arrayB_transposed), axis=0)\n",
    "\n",
    "# Pengindeksan yang diperbaiki untuk mendapatkan nilai 200\n",
    "nilai_200 = arrayC[4, 0]\n",
    "\n",
    "# Menampilkan hasil yang diperbaiki\n",
    "print(\"\\nPengindeksan yang Diperbaiki untuk Mendapatkan Nilai 200:\")\n",
    "print(nilai_200)\n"
   ]
  }
 ],
 "metadata": {
  "kernelspec": {
   "display_name": "base",
   "language": "python",
   "name": "python3"
  },
  "language_info": {
   "codemirror_mode": {
    "name": "ipython",
    "version": 3
   },
   "file_extension": ".py",
   "mimetype": "text/x-python",
   "name": "python",
   "nbconvert_exporter": "python",
   "pygments_lexer": "ipython3",
   "version": "3.11.5"
  }
 },
 "nbformat": 4,
 "nbformat_minor": 2
}
