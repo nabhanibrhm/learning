{
 "cells": [
  {
   "cell_type": "code",
   "execution_count": 11,
   "metadata": {},
   "outputs": [
    {
     "name": "stdout",
     "output_type": "stream",
     "text": [
      "Array C:\n",
      "[[  1   2   3   4]\n",
      " [  5   6   7   8]\n",
      " [  9  10  11  12]\n",
      " [100 200 300 400]]\n",
      "\n",
      "Corrected Indexing to Get the Value 200:\n",
      "200\n"
     ]
    }
   ],
   "source": [
    "import numpy as np\n",
    "\n",
    "# Assuming arrayA and arrayB are defined\n",
    "arrayA = np.array([[1, 2, 3, 4],\n",
    "                   [5, 6, 7, 8],\n",
    "                   [9, 10, 11, 12]])\n",
    "\n",
    "arrayB = np.array([[100],\n",
    "                   [200],\n",
    "                   [300],\n",
    "                   [400]])\n",
    "\n",
    "arrayB_transposed = np.transpose(arrayB)\n",
    "\n",
    "# Concatenate arrayA and arrayB_transposed along axis 0\n",
    "arrayC = np.concatenate((arrayA, arrayB_transposed), axis=0)\n",
    "\n",
    "# Correct indexing to get the value 200\n",
    "value_200 = arrayC[3, 1]\n",
    "\n",
    "print(\"Array C:\")\n",
    "print(arrayC)\n",
    "\n",
    "print(\"\\nCorrected Indexing to Get the Value 200:\")\n",
    "print(value_200)\n"
   ]
  }
 ],
 "metadata": {
  "kernelspec": {
   "display_name": "base",
   "language": "python",
   "name": "python3"
  },
  "language_info": {
   "codemirror_mode": {
    "name": "ipython",
    "version": 3
   },
   "file_extension": ".py",
   "mimetype": "text/x-python",
   "name": "python",
   "nbconvert_exporter": "python",
   "pygments_lexer": "ipython3",
   "version": "3.11.5"
  }
 },
 "nbformat": 4,
 "nbformat_minor": 2
}
